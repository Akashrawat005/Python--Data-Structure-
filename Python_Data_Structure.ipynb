{
  "nbformat": 4,
  "nbformat_minor": 0,
  "metadata": {
    "colab": {
      "provenance": []
    },
    "kernelspec": {
      "name": "python3",
      "display_name": "Python 3"
    },
    "language_info": {
      "name": "python"
    }
  },
  "cells": [
    {
      "cell_type": "markdown",
      "source": [
        "Question-1 What are data structures , and why are they important ?\n",
        "answer - A data structure is a way of organizing and storing data so it can be accessed and manipulated efficiently.\n",
        "They are important because:-\n",
        "*   Efficient Data Management\n",
        "*   Optimized Performance\n",
        "*   Scalability\n",
        "*   Relationship Representation\n",
        "\n"
      ],
      "metadata": {
        "id": "Qhi_fvTnAjTY"
      }
    },
    {
      "cell_type": "markdown",
      "source": [
        "Question-2 Explain the difference between mutable and immutable data types with examples.\n",
        "answer-\n",
        "*   Mutable Data Types: Can be changed after creation (e.g., lists, dictionaries).\n",
        "*   Immutable Data Types: Cannot be changed after creation (e.g., strings, tuples).\n",
        "Example- Mutable data type\n",
        "my_list = [1, 2, 3]   \n",
        "my_list[0] = 10       \n",
        "print(my_list)      \n",
        "output will change    \n",
        "Example- Immutable data type\n",
        "my_string = \"hello\"   \n",
        "my_string[0] = 'H'  \n",
        "my_string = \"Hello\"  \n",
        "print(my_string)    \n",
        "output will not change   \n",
        "\n"
      ],
      "metadata": {
        "id": "_Ap4y9CmBPtZ"
      }
    },
    {
      "cell_type": "markdown",
      "source": [
        "Question-3 What are the main difference between list and tuples in Python ?\n",
        "answer- The main difference between list and tuples in python is that you can add, modify or remove elements after the list is created. Once a tuple is created, its elements cannot be modified, added, or removed."
      ],
      "metadata": {
        "id": "gEQ1XhKxBmWa"
      }
    },
    {
      "cell_type": "markdown",
      "source": [
        "Question-4 Describe how dictionaries store data.\n",
        "answer-Dictionaries in Python store data as key-value pairs. Each key is unique, and it maps to a corresponding value. The dictionary uses a hash table internally, where:\n",
        "*The key is hashed (converted into a unique index).\n",
        "*The value is stored at that index in memory."
      ],
      "metadata": {
        "id": "iBC8wLYrB031"
      }
    },
    {
      "cell_type": "markdown",
      "source": [
        "Question-5 Why you must use set instead of list in Python?\n",
        "answer-Use a 'set' instead of a 'list' when you need 'unique elements' and faster membership checks. Sets automatically remove duplicates and support efficient operations like union and intersection."
      ],
      "metadata": {
        "id": "9ihK6QtqCBM8"
      }
    },
    {
      "cell_type": "markdown",
      "source": [
        "Question-6 Whats is a string in a Python , and how it is different from list?\n",
        "answer- In Python, a string is a sequence of characters enclosed in single quotes (') or double quotes (\"), like \"hello\" or 'world'.\n",
        "A 'string' is an immutable sequence of characters, while a 'list' is a mutable collection of items that can be of any data type. Strings store only text, whereas lists can store various types of elements."
      ],
      "metadata": {
        "id": "CaO3Frl4CYIg"
      }
    },
    {
      "cell_type": "markdown",
      "source": [
        "Question-7 How do tuples ensure data integerity in Python.\n",
        "answer- Tuples ensure data integrity in Python by being immutable, meaning once they are created, their contents cannot be changed. This guarantees that the data remains constant and prevents accidental modification."
      ],
      "metadata": {
        "id": "7VMmhIuNCrSt"
      }
    },
    {
      "cell_type": "markdown",
      "source": [
        "Question-8 What is a hash table , and how does it relate to dictionaries in Python.\n",
        "answer- A hash table is a data structure that stores key-value pairs, using a hash function to determine where the value is stored based on the key. Python dictionaries use hash tables, allowing for fast lookups by hashing the key to find the corresponding value efficiently."
      ],
      "metadata": {
        "id": "JWy9fs3aC5FE"
      }
    },
    {
      "cell_type": "markdown",
      "source": [
        "Question-9 Can list contain different data type in Python ?\n",
        "Answer- Yes, a list in Python can contain elements of different data types."
      ],
      "metadata": {
        "id": "urpUXJ7ODJ6G"
      }
    },
    {
      "cell_type": "markdown",
      "source": [
        "Question-10 Explain why strings are immutable in Python.\n",
        "answer- Strings are immutable in Python to improve performance, ensure data integrity, and allow them to be used as keys in hash-based structures like dictionaries."
      ],
      "metadata": {
        "id": "UdZAPT2UDvMZ"
      }
    },
    {
      "cell_type": "markdown",
      "source": [
        "Question-11 What advantage do dictionaries offers over list for certain tasks?\n",
        "answer- Dictionaries offer faster lookups (O(1)), key-value pair storage for direct access, and uniqueness of keys, making them more efficient than lists for tasks involving fast retrieval and organization of data."
      ],
      "metadata": {
        "id": "D0fHcWPSD7h8"
      }
    },
    {
      "cell_type": "markdown",
      "source": [
        "Question-12 Describe a scenario where using a tuple would be preferable over a list.\n",
        "answer- A tuple is preferable when storing immutable data that should not change, like coordinates or configuration settings, ensuring data integrity and allowing it to be used as a dictionary key."
      ],
      "metadata": {
        "id": "Ur6241GQETq8"
      }
    },
    {
      "cell_type": "markdown",
      "source": [
        "Question-13 How do sets handle duplicate values in Python?\n",
        "answer- Sets automatically remove duplicate values and only store unique elements. If you try to add a duplicate value, it will be ignored."
      ],
      "metadata": {
        "id": "5oWcPGGmEqhV"
      }
    },
    {
      "cell_type": "markdown",
      "source": [
        "Question-14 How does the \"in\" keyword work differently for lists and  dictionary .\n",
        "answer- For lists, the `in` keyword checks if a value exists, while for dictionaries, it checks if a key exists. Lists use linear search (O(n)), and dictionaries use hash lookup (O(1))."
      ],
      "metadata": {
        "id": "mJQxwUHgFLcF"
      }
    },
    {
      "cell_type": "markdown",
      "source": [
        "Question-15 Can you modify the elements in tuple? Explain why or why not?\n",
        "answer- No, you cannot modify elements in a tuple because tuples are  immutable . Once created, their contents cannot be changed to ensure data integrity."
      ],
      "metadata": {
        "id": "-blDmaImGcgh"
      }
    },
    {
      "cell_type": "markdown",
      "source": [
        "Question-16 What is a nested dictionary , and give an example of its use cases ?\n",
        "answer- A nested dictionary is a dictionary where the values are themselves dictionaries. It allows you to store hierarchical or complex data.\n",
        "Example-\n",
        "students = {\n",
        "    'Alice': {'age': 20, 'grade': 'A'},\n",
        "    'Bob': {'age': 22, 'grade': 'B'}\n",
        "}\n"
      ],
      "metadata": {
        "id": "clFMU3z5GtPt"
      }
    },
    {
      "cell_type": "markdown",
      "source": [
        "Question-17 Describe the time complexity of accessing elements in a dictionary?\n",
        "answer-  The time complexity of accessing elements in a dictionary is O(1) on average, due to the hash table implementation, allowing for constant-time lookups by key."
      ],
      "metadata": {
        "id": "2WWiMX8ZHCYN"
      }
    },
    {
      "cell_type": "markdown",
      "source": [
        "Question-18  In what situations are list prefered over dictionaries ?\n",
        "answer- Lists are preferred over dictionaries when order matters, you need to store duplicates , or when you need a simple, ordered collection of elements that can be accessed by index."
      ],
      "metadata": {
        "id": "yrqIyiliHVbC"
      }
    },
    {
      "cell_type": "markdown",
      "source": [
        "Question-19 Why are dictionaries considered unodered , and how does that affect data retrieval .\n",
        "answer- Dictionaries are considered unordered because their elements are stored based on hash values , not in a specific order. This affects data retrieval by allowing faster lookups via keys (O(1) time), but the order of elements is not guaranteed."
      ],
      "metadata": {
        "id": "pjijn-KnHnTg"
      }
    },
    {
      "cell_type": "markdown",
      "source": [
        "Question 1 Write a code to create a string with your name and print it ."
      ],
      "metadata": {
        "id": "IlSAXSk-IE4F"
      }
    },
    {
      "cell_type": "code",
      "execution_count": null,
      "metadata": {
        "colab": {
          "base_uri": "https://localhost:8080/"
        },
        "id": "R5ifW-7gAHvN",
        "outputId": "20b8a6f5-cd27-44ae-9ce3-c33467a01730"
      },
      "outputs": [
        {
          "output_type": "execute_result",
          "data": {
            "text/plain": [
              "str"
            ]
          },
          "metadata": {},
          "execution_count": 1
        }
      ],
      "source": [
        "a=\"AKASH RAWAT\"\n",
        "type(a)"
      ]
    },
    {
      "cell_type": "markdown",
      "source": [
        "Question-2 Write a code to find the length of the string \"Hello World\"."
      ],
      "metadata": {
        "id": "uNvFjfzTJkjO"
      }
    },
    {
      "cell_type": "code",
      "source": [
        "str = \"Hello World\"\n",
        "length = len(str)\n",
        "print(length)\n"
      ],
      "metadata": {
        "id": "iEUi4sTxJ4tR",
        "colab": {
          "base_uri": "https://localhost:8080/"
        },
        "outputId": "d4b0884d-3d92-4e59-98c0-3130fccceb19"
      },
      "execution_count": 1,
      "outputs": [
        {
          "output_type": "stream",
          "name": "stdout",
          "text": [
            "11\n"
          ]
        }
      ]
    },
    {
      "cell_type": "markdown",
      "source": [
        "Question-3 Write a code to slice the first 3 characters from string \" Python Programming\".\n"
      ],
      "metadata": {
        "id": "ObGgp3K4J8kH"
      }
    },
    {
      "cell_type": "code",
      "source": [
        "str = \"Python Programming\"\n",
        "sliced_str = str[:3]\n",
        "print(sliced_str)\n"
      ],
      "metadata": {
        "id": "NYU19mBGKe0f",
        "colab": {
          "base_uri": "https://localhost:8080/"
        },
        "outputId": "2dd300a9-213e-4ddf-8c21-4b218e4f1cf2"
      },
      "execution_count": 2,
      "outputs": [
        {
          "output_type": "stream",
          "name": "stdout",
          "text": [
            "Pyt\n"
          ]
        }
      ]
    },
    {
      "cell_type": "markdown",
      "source": [
        "Question-4 Write a code to convert the string \" Hello \" to the uppercase.  "
      ],
      "metadata": {
        "id": "huTuOqIbKfvR"
      }
    },
    {
      "cell_type": "code",
      "source": [
        "string = \" Hello \"\n",
        "uppercased_string = string.upper()\n",
        "print(uppercased_string)"
      ],
      "metadata": {
        "colab": {
          "base_uri": "https://localhost:8080/"
        },
        "id": "uny9AOjmr_RQ",
        "outputId": "eddc53c1-8f1d-4c84-c768-adc853d2a455"
      },
      "execution_count": 5,
      "outputs": [
        {
          "output_type": "stream",
          "name": "stdout",
          "text": [
            " HELLO \n"
          ]
        }
      ]
    },
    {
      "cell_type": "markdown",
      "source": [
        "Question-5 write a code to replace word \"Apple\" with \"Orange\" in the string \"I like apple\""
      ],
      "metadata": {
        "id": "9xsf-4eJLWr8"
      }
    },
    {
      "cell_type": "code",
      "source": [
        "string = \"I like apple\"\n",
        "new_string = string.replace(\"apple\", \"Orange\")\n",
        "print(new_string)"
      ],
      "metadata": {
        "id": "gG7LqO9GLtXV",
        "colab": {
          "base_uri": "https://localhost:8080/"
        },
        "outputId": "6c1d4d45-82e1-4851-a0cd-c927ae1e7c82"
      },
      "execution_count": 6,
      "outputs": [
        {
          "output_type": "stream",
          "name": "stdout",
          "text": [
            "I like Orange\n"
          ]
        }
      ]
    },
    {
      "cell_type": "markdown",
      "source": [
        "Question-6 Write a code to create a list with numbers 1 to 5 and print it ."
      ],
      "metadata": {
        "id": "4bs85-Y5Lu4P"
      }
    },
    {
      "cell_type": "code",
      "source": [
        "list=[1,2,3,4,5]\n",
        "print(list)"
      ],
      "metadata": {
        "id": "AhVCeTt9M3Iz",
        "colab": {
          "base_uri": "https://localhost:8080/"
        },
        "outputId": "9fbc7d39-a4ae-4a6d-cbd7-85a88bcb0aca"
      },
      "execution_count": 10,
      "outputs": [
        {
          "output_type": "stream",
          "name": "stdout",
          "text": [
            "[1, 2, 3, 4, 5]\n"
          ]
        }
      ]
    },
    {
      "cell_type": "markdown",
      "source": [
        "Question-7 Write a code to append the numbers 10 to the list [ 1,2,3,4,5]\n"
      ],
      "metadata": {
        "id": "IUHfA3UhSpVg"
      }
    },
    {
      "cell_type": "code",
      "source": [
        "my_list = [1, 2, 3, 4, 5]\n",
        "my_list.append(10)\n",
        "print(my_list)"
      ],
      "metadata": {
        "id": "Y_NfIgF9Yy0Y",
        "colab": {
          "base_uri": "https://localhost:8080/"
        },
        "outputId": "16d7404d-9ef0-4e70-ac5e-014bf47332ce"
      },
      "execution_count": 9,
      "outputs": [
        {
          "output_type": "stream",
          "name": "stdout",
          "text": [
            "[1, 2, 3, 4, 5, 10]\n"
          ]
        }
      ]
    },
    {
      "cell_type": "markdown",
      "source": [
        "Question-8 Write a code to remove the number 3 from the list[1,2,3,4,5]."
      ],
      "metadata": {
        "id": "PN9uh--Hsyuq"
      }
    },
    {
      "cell_type": "code",
      "source": [
        "my_list = [1, 2, 3, 4, 5]\n",
        "my_list.remove(3)\n",
        "print(my_list)"
      ],
      "metadata": {
        "colab": {
          "base_uri": "https://localhost:8080/"
        },
        "id": "K4BD58R8srZR",
        "outputId": "bae61a16-5534-44f5-a817-7ffd6b67a61e"
      },
      "execution_count": 11,
      "outputs": [
        {
          "output_type": "stream",
          "name": "stdout",
          "text": [
            "[1, 2, 4, 5]\n"
          ]
        }
      ]
    },
    {
      "cell_type": "markdown",
      "source": [
        "Question-9 Write a code to access the second element in the list [a,b,c,d]"
      ],
      "metadata": {
        "id": "T5Wqfw8WtpH5"
      }
    },
    {
      "cell_type": "code",
      "source": [
        "my_list = ['a', 'b', 'c', 'd']\n",
        "second_element = my_list[1]\n",
        "print(second_element)"
      ],
      "metadata": {
        "colab": {
          "base_uri": "https://localhost:8080/"
        },
        "id": "rTeLdgJNtjmW",
        "outputId": "49e06061-b91b-41f5-b957-1a5ac28aec7a"
      },
      "execution_count": 12,
      "outputs": [
        {
          "output_type": "stream",
          "name": "stdout",
          "text": [
            "b\n"
          ]
        }
      ]
    },
    {
      "cell_type": "markdown",
      "source": [
        "Question-10 Write a code to reverse the list [ 10,20,30,40,50]."
      ],
      "metadata": {
        "id": "WomvGjt2t_tG"
      }
    },
    {
      "cell_type": "code",
      "source": [
        "my_list = [10, 20, 30, 40, 50]\n",
        "reversed_list = my_list[::-1]\n",
        "print(reversed_list)"
      ],
      "metadata": {
        "colab": {
          "base_uri": "https://localhost:8080/"
        },
        "id": "yPeMinXht-KX",
        "outputId": "145e41f8-2fbf-4040-dd40-164d05df1c99"
      },
      "execution_count": 13,
      "outputs": [
        {
          "output_type": "stream",
          "name": "stdout",
          "text": [
            "[50, 40, 30, 20, 10]\n"
          ]
        }
      ]
    },
    {
      "cell_type": "markdown",
      "source": [
        "Question-11 Write a code to create tuple with the element 10,20,30  and print it."
      ],
      "metadata": {
        "id": "WsG6Lc1ruUqX"
      }
    },
    {
      "cell_type": "code",
      "source": [
        "my_tuple = (10, 20, 30)\n",
        "print(my_tuple)"
      ],
      "metadata": {
        "colab": {
          "base_uri": "https://localhost:8080/"
        },
        "id": "gevcL7CXuQUk",
        "outputId": "071faf61-e5cc-419a-aa71-e0f30135615b"
      },
      "execution_count": 33,
      "outputs": [
        {
          "output_type": "stream",
          "name": "stdout",
          "text": [
            "(10, 20, 30)\n"
          ]
        }
      ]
    },
    {
      "cell_type": "markdown",
      "source": [
        "Question-12 Write a code to access the first element of the  tuple ('apple', 'banana','cherry')."
      ],
      "metadata": {
        "id": "hcfG1hXvuo5G"
      }
    },
    {
      "cell_type": "code",
      "source": [
        "my_tuple = ('apple', 'banana', 'cherry')\n",
        "first_element = my_tuple[0]\n",
        "print(first_element)"
      ],
      "metadata": {
        "colab": {
          "base_uri": "https://localhost:8080/"
        },
        "id": "42mTJLxhvC5V",
        "outputId": "501f5002-6e69-4e7d-d0be-945d14b62263"
      },
      "execution_count": 32,
      "outputs": [
        {
          "output_type": "stream",
          "name": "stdout",
          "text": [
            "apple\n"
          ]
        }
      ]
    },
    {
      "cell_type": "markdown",
      "source": [
        "Question-13 Write a code to count how many times 2 appears in tuple (1,2,3,2,4,2)."
      ],
      "metadata": {
        "id": "o0vRau9JvDtX"
      }
    },
    {
      "cell_type": "code",
      "source": [
        "my_tuple = (1, 2, 3, 2, 4, 2)\n",
        "count = my_tuple.count(2)\n",
        "print(count)"
      ],
      "metadata": {
        "colab": {
          "base_uri": "https://localhost:8080/"
        },
        "id": "Wmk6XP2zvYbI",
        "outputId": "5d99a6a4-3312-42d7-e934-0e1e0a345239"
      },
      "execution_count": 31,
      "outputs": [
        {
          "output_type": "stream",
          "name": "stdout",
          "text": [
            "3\n"
          ]
        }
      ]
    },
    {
      "cell_type": "markdown",
      "source": [
        "Question-14 Write a code to find the index of the element \"cat\" in the tuple ('dog', 'cat', 'rabbit')."
      ],
      "metadata": {
        "id": "YQi3OoUVvbvm"
      }
    },
    {
      "cell_type": "code",
      "source": [
        "my_tuple = ('dog', 'cat', 'rabbit')\n",
        "index = my_tuple.index('cat')\n",
        "print(index)"
      ],
      "metadata": {
        "colab": {
          "base_uri": "https://localhost:8080/"
        },
        "id": "KucYjuatvna1",
        "outputId": "f7fe15df-81d3-4d8d-ed40-c7257d80de1c"
      },
      "execution_count": 18,
      "outputs": [
        {
          "output_type": "stream",
          "name": "stdout",
          "text": [
            "1\n"
          ]
        }
      ]
    },
    {
      "cell_type": "markdown",
      "source": [
        "Question-15  Write a code to check if the element \"banana\" is in the tuple ('apple', 'orange', 'banana')."
      ],
      "metadata": {
        "id": "wtKhF1q_vuDk"
      }
    },
    {
      "cell_type": "code",
      "source": [
        "my_tuple = ('apple', 'orange', 'banana')\n",
        "is_present = 'banana' in my_tuple\n",
        "print(is_present)"
      ],
      "metadata": {
        "colab": {
          "base_uri": "https://localhost:8080/"
        },
        "id": "-qtKNW4svqIC",
        "outputId": "69bd9edc-df5e-4bb5-877c-4a6190bd7795"
      },
      "execution_count": 19,
      "outputs": [
        {
          "output_type": "stream",
          "name": "stdout",
          "text": [
            "True\n"
          ]
        }
      ]
    },
    {
      "cell_type": "markdown",
      "source": [
        " Question-16 Write a code to create a set with the elements 1, 2, 3, 4, 5 and print it."
      ],
      "metadata": {
        "id": "oPTuOyOCv65V"
      }
    },
    {
      "cell_type": "code",
      "source": [
        "my_set = {1, 2, 3, 4, 5}\n",
        "print(my_set)"
      ],
      "metadata": {
        "colab": {
          "base_uri": "https://localhost:8080/"
        },
        "id": "3ewHX2EHv2xf",
        "outputId": "f70237e5-8537-417b-be5b-28e2fb1be6c6"
      },
      "execution_count": 20,
      "outputs": [
        {
          "output_type": "stream",
          "name": "stdout",
          "text": [
            "{1, 2, 3, 4, 5}\n"
          ]
        }
      ]
    },
    {
      "cell_type": "markdown",
      "source": [
        "Question-17 Write a code to add the element 6 to the set {1, 2, 3, 4}."
      ],
      "metadata": {
        "id": "bAuv1FTowL5R"
      }
    },
    {
      "cell_type": "code",
      "source": [
        "my_set = {1, 2, 3, 4}\n",
        "my_set.add(6)\n",
        "print(my_set)"
      ],
      "metadata": {
        "colab": {
          "base_uri": "https://localhost:8080/"
        },
        "id": "YShztt0swDwH",
        "outputId": "6b7cd702-a28d-47e6-afd4-4b3a2b6a2973"
      },
      "execution_count": 21,
      "outputs": [
        {
          "output_type": "stream",
          "name": "stdout",
          "text": [
            "{1, 2, 3, 4, 6}\n"
          ]
        }
      ]
    },
    {
      "cell_type": "markdown",
      "source": [
        "Question-18  Write a code to create a tuple with the elements 10, 20, 30 and print it."
      ],
      "metadata": {
        "id": "YU7ayDp2waQx"
      }
    },
    {
      "cell_type": "code",
      "source": [
        "my_tuple = (10, 20, 30)\n",
        "print(my_tuple)"
      ],
      "metadata": {
        "colab": {
          "base_uri": "https://localhost:8080/"
        },
        "id": "5G0WyXLtwUSQ",
        "outputId": "83aa8272-c459-4384-ca52-94ed24bd0264"
      },
      "execution_count": 22,
      "outputs": [
        {
          "output_type": "stream",
          "name": "stdout",
          "text": [
            "(10, 20, 30)\n"
          ]
        }
      ]
    },
    {
      "cell_type": "markdown",
      "source": [
        "Question-19  Write a code to access the first element of the tuple ('apple', 'banana', 'cherry').\n",
        "\n",
        "\n"
      ],
      "metadata": {
        "id": "gtuCSiGXwqcu"
      }
    },
    {
      "cell_type": "code",
      "source": [
        "my_tuple = ('apple', 'banana', 'cherry')\n",
        "first_element = my_tuple[0]\n",
        "print(first_element)"
      ],
      "metadata": {
        "colab": {
          "base_uri": "https://localhost:8080/"
        },
        "id": "Nc03uMCCxBgb",
        "outputId": "a754b3ef-ce44-4989-cd1b-ad5c466fa77e"
      },
      "execution_count": 24,
      "outputs": [
        {
          "output_type": "stream",
          "name": "stdout",
          "text": [
            "apple\n"
          ]
        }
      ]
    },
    {
      "cell_type": "markdown",
      "source": [
        "Question-20 Write a code to count how many times the number 2 appears in the tuple (1, 2, 3, 2, 4, 2)."
      ],
      "metadata": {
        "id": "rb3EG0OUwqSG"
      }
    },
    {
      "cell_type": "code",
      "source": [
        "my_tuple = (1, 2, 3, 2, 4, 2)\n",
        "count = my_tuple.count(2)\n",
        "print(count)"
      ],
      "metadata": {
        "colab": {
          "base_uri": "https://localhost:8080/"
        },
        "id": "owJrf9kCxNGH",
        "outputId": "63814867-6471-4581-9dd5-51d7afcf544a"
      },
      "execution_count": 25,
      "outputs": [
        {
          "output_type": "stream",
          "name": "stdout",
          "text": [
            "3\n"
          ]
        }
      ]
    },
    {
      "cell_type": "markdown",
      "source": [
        "Question-21  Write a code to find the index of the element \"cat\" in the tuple ('dog', 'cat', 'rabbit').\n",
        "\n"
      ],
      "metadata": {
        "id": "035_10VewqHc"
      }
    },
    {
      "cell_type": "code",
      "source": [
        "my_tuple = ('dog', 'cat', 'rabbit')\n",
        "index = my_tuple.index('cat')\n",
        "print(index)"
      ],
      "metadata": {
        "colab": {
          "base_uri": "https://localhost:8080/"
        },
        "id": "cchY4hR_xbVM",
        "outputId": "a518c13a-6309-49e3-a19e-f8d46d97d532"
      },
      "execution_count": 26,
      "outputs": [
        {
          "output_type": "stream",
          "name": "stdout",
          "text": [
            "1\n"
          ]
        }
      ]
    },
    {
      "cell_type": "markdown",
      "source": [
        "Question-22 Write a code to check if the element \"banana\" is in the tuple ('apple', 'orange', 'banana').\n",
        "\n"
      ],
      "metadata": {
        "id": "QxPaqCJ9wp7Y"
      }
    },
    {
      "cell_type": "code",
      "source": [
        "my_tuple = ('apple', 'orange', 'banana')\n",
        "is_present = 'banana' in my_tuple\n",
        "print(is_present)"
      ],
      "metadata": {
        "colab": {
          "base_uri": "https://localhost:8080/"
        },
        "id": "aA_FilhQxopw",
        "outputId": "573fdf8b-6308-487a-86f7-6050db36d8b7"
      },
      "execution_count": 27,
      "outputs": [
        {
          "output_type": "stream",
          "name": "stdout",
          "text": [
            "True\n"
          ]
        }
      ]
    },
    {
      "cell_type": "markdown",
      "source": [
        "Question-23  Write a code to create a set with the elements 1, 2, 3, 4, 5 and print it."
      ],
      "metadata": {
        "id": "ziRXtSwxwpq8"
      }
    },
    {
      "cell_type": "code",
      "source": [
        "my_set = {1, 2, 3, 4, 5}\n",
        "print(my_set)"
      ],
      "metadata": {
        "colab": {
          "base_uri": "https://localhost:8080/"
        },
        "id": "sgAAxzuwxzqg",
        "outputId": "e8de7d37-2a08-4659-87d5-7a8d719ff431"
      },
      "execution_count": 30,
      "outputs": [
        {
          "output_type": "stream",
          "name": "stdout",
          "text": [
            "{1, 2, 3, 4, 5}\n"
          ]
        }
      ]
    },
    {
      "cell_type": "markdown",
      "source": [
        "Question-24  Write a code to add the element 6 to the set {1, 2, 3, 4}.\n"
      ],
      "metadata": {
        "id": "Hm1mIfbCwpUX"
      }
    },
    {
      "cell_type": "code",
      "source": [
        "my_set = {1, 2, 3, 4}\n",
        "my_set.add(6)\n",
        "print(my_set)"
      ],
      "metadata": {
        "colab": {
          "base_uri": "https://localhost:8080/"
        },
        "id": "VvoR2azmyA85",
        "outputId": "b0de6de1-1634-44a8-a986-ad24afc0f486"
      },
      "execution_count": 29,
      "outputs": [
        {
          "output_type": "stream",
          "name": "stdout",
          "text": [
            "{1, 2, 3, 4, 6}\n"
          ]
        }
      ]
    }
  ]
}